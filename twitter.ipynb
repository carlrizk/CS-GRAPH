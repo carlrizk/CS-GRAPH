{
 "cells": [
  {
   "cell_type": "code",
   "execution_count": 1,
   "metadata": {},
   "outputs": [],
   "source": [
    "import networkx as nx"
   ]
  },
  {
   "cell_type": "code",
   "execution_count": 2,
   "metadata": {},
   "outputs": [
    {
     "name": "stdout",
     "output_type": "stream",
     "text": [
      "Nombre de nœuds: 81306\n",
      "Nombre de liens: 1768149\n"
     ]
    }
   ],
   "source": [
    "DATASET_PATH = 'datasets/twitter/twitter_combined.txt'\n",
    "\n",
    "G = nx.read_edgelist(path=DATASET_PATH, create_using=nx.DiGraph(), nodetype=int)\n",
    "\n",
    "# Afficher quelques informations sur le graphe\n",
    "print(f\"Nombre de nœuds: {G.number_of_nodes()}\")\n",
    "print(f\"Nombre de liens: {G.number_of_edges()}\")"
   ]
  }
 ],
 "metadata": {
  "kernelspec": {
   "display_name": "Python 3",
   "language": "python",
   "name": "python3"
  },
  "language_info": {
   "codemirror_mode": {
    "name": "ipython",
    "version": 3
   },
   "file_extension": ".py",
   "mimetype": "text/x-python",
   "name": "python",
   "nbconvert_exporter": "python",
   "pygments_lexer": "ipython3",
   "version": "3.10.8"
  },
  "orig_nbformat": 4
 },
 "nbformat": 4,
 "nbformat_minor": 2
}
