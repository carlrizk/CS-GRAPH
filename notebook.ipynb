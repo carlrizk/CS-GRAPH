{
 "cells": [
  {
   "cell_type": "code",
   "execution_count": 23,
   "metadata": {},
   "outputs": [],
   "source": [
    "import networkx as nx\n",
    "import matplotlib.pyplot as plt"
   ]
  },
  {
   "cell_type": "code",
   "execution_count": 24,
   "metadata": {},
   "outputs": [],
   "source": [
    "from typing import Dict, List\n",
    "\n",
    "import matplotlib\n",
    "import json\n",
    "from matplotlib.colors import LinearSegmentedColormap\n",
    "import numpy as np\n",
    "\n",
    "def save_stats(stats):\n",
    "    with open(\"stats.json\", \"w\") as f:\n",
    "        json.dump(stats, f, sort_keys=True, indent=4)\n",
    "\n",
    "def load_stats() -> Dict:\n",
    "    with open(\"stats.json\", \"r\") as f:\n",
    "        return json.load(f)\n",
    "\n",
    "def print_stats(stats):\n",
    "    print(json.dumps(stats, indent=4, sort_keys=True))\n",
    "\n",
    "def highlight_nodes(graph: nx.Graph, nodes: List = []):\n",
    "    reset_colors(graph)\n",
    "    for node in nodes:\n",
    "        graph.nodes[node][\"viz\"][\"color\"] = {'r': 255, 'g': 0, 'b': 0, 'a': 1}\n",
    "\n",
    "def highlight_nodes_importance(graph: nx.Graph, node_importance : Dict = {}):\n",
    "    reset_colors(graph)\n",
    "    min = np.min(list(node_importance.values()))\n",
    "    max = np.max(list(node_importance.values()))\n",
    "    norm = matplotlib.colors.Normalize(vmin=min, vmax=max)\n",
    "    for node, importance in node_importance.items():\n",
    "        g = int(255 * norm(importance))\n",
    "        r = 255 - g\n",
    "        graph.nodes[int(node)][\"viz\"][\"color\"] = {'r': r, 'g': g, 'b': 0, 'a': 1}\n",
    "\n",
    "def highlight_nodes_communities(graph: nx.Graph, communities: List[List] = []):\n",
    "    reset_colors(graph)\n",
    "    cmap: LinearSegmentedColormap = plt.get_cmap('hsv')\n",
    "    for i, community in enumerate(communities):\n",
    "        (r, g, b, a) = cmap(i / len(communities))\n",
    "        r, g, b, a = int(r * 255), int(g * 255), int(b * 255), a\n",
    "        for node in community:\n",
    "            graph.nodes[node][\"viz\"][\"color\"] = {'r': r, 'g': g, 'b': b, 'a': a}\n",
    "\n",
    "\n",
    "def reset_colors(graph: nx.Graph):\n",
    "    for node in graph:\n",
    "        if(not \"viz\" in graph.nodes[node]):\n",
    "            graph.nodes[node][\"viz\"] = {}\n",
    "        graph.nodes[node][\"viz\"][\"color\"] = {'r': 173, 'g': 216, 'b': 230, 'a': 1}\n",
    "\n",
    "\n",
    "def circular_layout(graph: nx.Graph):\n",
    "    pos = nx.circular_layout(graph, scale=4*graph.number_of_nodes())\n",
    "    for node, position in pos.items():\n",
    "        if(not \"viz\" in graph.nodes[node]):\n",
    "            graph.nodes[node][\"viz\"] = {}\n",
    "        graph.nodes[node][\"viz\"][\"position\"] = {\"x\": position[0], \"y\": position[1], \"z\": 0.0}\n"
   ]
  },
  {
   "cell_type": "code",
   "execution_count": 25,
   "metadata": {},
   "outputs": [],
   "source": [
    "USE_TEST_DATASET = False\n",
    "IGNORE_PREVIOUS_STATS = False\n",
    "\n",
    "if(not USE_TEST_DATASET):\n",
    "    DATASET_PATH = \"./datasets/facebook_combined.txt\""
   ]
  },
  {
   "cell_type": "code",
   "execution_count": 26,
   "metadata": {},
   "outputs": [],
   "source": [
    "if(USE_TEST_DATASET):\n",
    "    G = nx.karate_club_graph()\n",
    "else:\n",
    "    G : nx.Graph = nx.read_edgelist(path=DATASET_PATH, create_using=nx.Graph, nodetype=int)"
   ]
  },
  {
   "cell_type": "code",
   "execution_count": 27,
   "metadata": {},
   "outputs": [],
   "source": [
    "if (IGNORE_PREVIOUS_STATS):\n",
    "    STATS = {}\n",
    "else:\n",
    "    STATS = load_stats()"
   ]
  },
  {
   "cell_type": "code",
   "execution_count": 28,
   "metadata": {},
   "outputs": [],
   "source": [
    "circular_layout(G)\n",
    "reset_colors(G)"
   ]
  },
  {
   "cell_type": "code",
   "execution_count": 29,
   "metadata": {},
   "outputs": [],
   "source": [
    "nx.write_gexf(G, \"graphs/graph.gexf\")"
   ]
  },
  {
   "cell_type": "code",
   "execution_count": 30,
   "metadata": {},
   "outputs": [],
   "source": [
    "if(not \"number_of_nodes\" in STATS):\n",
    "    STATS[\"number_of_nodes\"] =  G.number_of_nodes()\n",
    "    save_stats(STATS)\n",
    "\n",
    "if(not \"number_of_edges\" in STATS):\n",
    "    STATS[\"number_of_edges\"] =  G.number_of_edges()\n",
    "    save_stats(STATS)\n",
    "\n",
    "if(not \"diameter\" in STATS):\n",
    "    STATS[\"diameter\"] = nx.diameter(G)\n",
    "    save_stats(STATS)\n",
    "    \n",
    "if(not \"radius\" in STATS):\n",
    "    STATS[\"radius\"] = nx.radius(G)\n",
    "    save_stats(STATS)\n"
   ]
  },
  {
   "cell_type": "code",
   "execution_count": 31,
   "metadata": {},
   "outputs": [],
   "source": [
    "if(not \"centers\" in STATS):\n",
    "    STATS[\"centers\"] = nx.center(G)\n",
    "    save_stats(STATS)"
   ]
  },
  {
   "cell_type": "code",
   "execution_count": 32,
   "metadata": {},
   "outputs": [],
   "source": [
    "highlight_nodes(G, STATS[\"centers\"])\n",
    "nx.write_gexf(G, \"graphs/centers.gexf\")"
   ]
  },
  {
   "cell_type": "code",
   "execution_count": 33,
   "metadata": {},
   "outputs": [],
   "source": [
    "if(not \"degree_centrality\" in STATS):\n",
    "    STATS[\"degree_centrality\"] = nx.degree_centrality(G)\n",
    "    save_stats(STATS)"
   ]
  },
  {
   "cell_type": "code",
   "execution_count": 34,
   "metadata": {},
   "outputs": [],
   "source": [
    "highlight_nodes_importance(G, STATS[\"degree_centrality\"])\n",
    "nx.write_gexf(G, \"graphs/degree_centrality.gexf\")"
   ]
  },
  {
   "cell_type": "code",
   "execution_count": 35,
   "metadata": {},
   "outputs": [],
   "source": [
    "# neighborhood_connectivity = nx.neighbor_connectivity(G)"
   ]
  },
  {
   "cell_type": "code",
   "execution_count": 36,
   "metadata": {},
   "outputs": [],
   "source": [
    "if(not \"eigenvector_centrality\" in STATS):\n",
    "    STATS[\"eigenvector_centrality\"] = nx.eigenvector_centrality(G)\n",
    "    save_stats(STATS)"
   ]
  },
  {
   "cell_type": "code",
   "execution_count": 37,
   "metadata": {},
   "outputs": [],
   "source": [
    "highlight_nodes_importance(G, STATS[\"eigenvector_centrality\"])\n",
    "nx.write_gexf(G, \"graphs/eigenvector_centrality.gexf\")"
   ]
  },
  {
   "cell_type": "code",
   "execution_count": 38,
   "metadata": {},
   "outputs": [
    {
     "ename": "ModuleNotFoundError",
     "evalue": "No module named 'scipy'",
     "output_type": "error",
     "traceback": [
      "\u001b[1;31m---------------------------------------------------------------------------\u001b[0m",
      "\u001b[1;31mModuleNotFoundError\u001b[0m                       Traceback (most recent call last)",
      "Cell \u001b[1;32mIn[38], line 2\u001b[0m\n\u001b[0;32m      1\u001b[0m \u001b[39mif\u001b[39;00m(\u001b[39mnot\u001b[39;00m \u001b[39m\"\u001b[39m\u001b[39mpagerank\u001b[39m\u001b[39m\"\u001b[39m \u001b[39min\u001b[39;00m STATS):\n\u001b[1;32m----> 2\u001b[0m     STATS[\u001b[39m\"\u001b[39m\u001b[39mpagerank\u001b[39m\u001b[39m\"\u001b[39m] \u001b[39m=\u001b[39m nx\u001b[39m.\u001b[39;49mpagerank(G)\n\u001b[0;32m      3\u001b[0m     save_stats(STATS)\n",
      "File \u001b[1;32md:\\miniconda3\\envs\\graph\\Lib\\site-packages\\networkx\\classes\\backends.py:145\u001b[0m, in \u001b[0;36m_dispatch.<locals>.wrapper\u001b[1;34m(*args, **kwds)\u001b[0m\n\u001b[0;32m    141\u001b[0m         \u001b[39melse\u001b[39;00m:\n\u001b[0;32m    142\u001b[0m             \u001b[39mraise\u001b[39;00m NetworkXNotImplemented(\n\u001b[0;32m    143\u001b[0m                 \u001b[39mf\u001b[39m\u001b[39m\"\u001b[39m\u001b[39m'\u001b[39m\u001b[39m{\u001b[39;00mname\u001b[39m}\u001b[39;00m\u001b[39m'\u001b[39m\u001b[39m not implemented by \u001b[39m\u001b[39m{\u001b[39;00mplugin_name\u001b[39m}\u001b[39;00m\u001b[39m\"\u001b[39m\n\u001b[0;32m    144\u001b[0m             )\n\u001b[1;32m--> 145\u001b[0m \u001b[39mreturn\u001b[39;00m func(\u001b[39m*\u001b[39;49margs, \u001b[39m*\u001b[39;49m\u001b[39m*\u001b[39;49mkwds)\n",
      "File \u001b[1;32md:\\miniconda3\\envs\\graph\\Lib\\site-packages\\networkx\\algorithms\\link_analysis\\pagerank_alg.py:109\u001b[0m, in \u001b[0;36mpagerank\u001b[1;34m(G, alpha, personalization, max_iter, tol, nstart, weight, dangling)\u001b[0m\n\u001b[0;32m      9\u001b[0m \u001b[39m@nx\u001b[39m\u001b[39m.\u001b[39m_dispatch\n\u001b[0;32m     10\u001b[0m \u001b[39mdef\u001b[39;00m \u001b[39mpagerank\u001b[39m(\n\u001b[0;32m     11\u001b[0m     G,\n\u001b[1;32m   (...)\u001b[0m\n\u001b[0;32m     18\u001b[0m     dangling\u001b[39m=\u001b[39m\u001b[39mNone\u001b[39;00m,\n\u001b[0;32m     19\u001b[0m ):\n\u001b[0;32m     20\u001b[0m \u001b[39m    \u001b[39m\u001b[39m\"\"\"Returns the PageRank of the nodes in the graph.\u001b[39;00m\n\u001b[0;32m     21\u001b[0m \n\u001b[0;32m     22\u001b[0m \u001b[39m    PageRank computes a ranking of the nodes in the graph G based on\u001b[39;00m\n\u001b[1;32m   (...)\u001b[0m\n\u001b[0;32m    107\u001b[0m \n\u001b[0;32m    108\u001b[0m \u001b[39m    \"\"\"\u001b[39;00m\n\u001b[1;32m--> 109\u001b[0m     \u001b[39mreturn\u001b[39;00m _pagerank_scipy(\n\u001b[0;32m    110\u001b[0m         G, alpha, personalization, max_iter, tol, nstart, weight, dangling\n\u001b[0;32m    111\u001b[0m     )\n",
      "File \u001b[1;32md:\\miniconda3\\envs\\graph\\Lib\\site-packages\\networkx\\algorithms\\link_analysis\\pagerank_alg.py:451\u001b[0m, in \u001b[0;36m_pagerank_scipy\u001b[1;34m(G, alpha, personalization, max_iter, tol, nstart, weight, dangling)\u001b[0m\n\u001b[0;32m    367\u001b[0m \u001b[39m\u001b[39m\u001b[39m\"\"\"Returns the PageRank of the nodes in the graph.\u001b[39;00m\n\u001b[0;32m    368\u001b[0m \n\u001b[0;32m    369\u001b[0m \u001b[39mPageRank computes a ranking of the nodes in the graph G based on\u001b[39;00m\n\u001b[1;32m   (...)\u001b[0m\n\u001b[0;32m    448\u001b[0m \u001b[39m   http://dbpubs.stanford.edu:8090/pub/showDoc.Fulltext?lang=en&doc=1999-66&format=pdf\u001b[39;00m\n\u001b[0;32m    449\u001b[0m \u001b[39m\"\"\"\u001b[39;00m\n\u001b[0;32m    450\u001b[0m \u001b[39mimport\u001b[39;00m \u001b[39mnumpy\u001b[39;00m \u001b[39mas\u001b[39;00m \u001b[39mnp\u001b[39;00m\n\u001b[1;32m--> 451\u001b[0m \u001b[39mimport\u001b[39;00m \u001b[39mscipy\u001b[39;00m \u001b[39mas\u001b[39;00m \u001b[39msp\u001b[39;00m\n\u001b[0;32m    452\u001b[0m \u001b[39mimport\u001b[39;00m \u001b[39mscipy\u001b[39;00m\u001b[39m.\u001b[39;00m\u001b[39msparse\u001b[39;00m  \u001b[39m# call as sp.sparse\u001b[39;00m\n\u001b[0;32m    454\u001b[0m N \u001b[39m=\u001b[39m \u001b[39mlen\u001b[39m(G)\n",
      "\u001b[1;31mModuleNotFoundError\u001b[0m: No module named 'scipy'"
     ]
    }
   ],
   "source": [
    "if(not \"pagerank\" in STATS):\n",
    "    STATS[\"pagerank\"] = nx.pagerank(G)\n",
    "    save_stats(STATS)"
   ]
  },
  {
   "cell_type": "code",
   "execution_count": null,
   "metadata": {},
   "outputs": [],
   "source": [
    "highlight_nodes_importance(G, STATS[\"pagerank\"])\n",
    "nx.write_gexf(G, \"graphs/pagerank.gexf\")"
   ]
  },
  {
   "cell_type": "code",
   "execution_count": null,
   "metadata": {},
   "outputs": [],
   "source": [
    "if(not \"clustering_coeff\" in STATS):\n",
    "    STATS[\"clustering_coeff\"] = nx.clustering(G)\n",
    "    save_stats(STATS)"
   ]
  },
  {
   "cell_type": "code",
   "execution_count": null,
   "metadata": {},
   "outputs": [],
   "source": [
    "highlight_nodes_importance(G, STATS[\"clustering_coeff\"])\n",
    "nx.write_gexf(G, \"graphs/clustering_coeff.gexf\")"
   ]
  },
  {
   "cell_type": "code",
   "execution_count": null,
   "metadata": {},
   "outputs": [],
   "source": [
    "if(not \"closeness_centrality\" in STATS):\n",
    "    STATS[\"closeness_centrality\"] = nx.closeness_centrality(G)\n",
    "    save_stats(STATS)"
   ]
  },
  {
   "cell_type": "code",
   "execution_count": null,
   "metadata": {},
   "outputs": [],
   "source": [
    "highlight_nodes_importance(G, STATS[\"closeness_centrality\"])\n",
    "nx.write_gexf(G, \"graphs/closeness_centrality.gexf\")"
   ]
  },
  {
   "cell_type": "code",
   "execution_count": null,
   "metadata": {},
   "outputs": [],
   "source": [
    "if(not \"betweenness_centrality\" in STATS):\n",
    "    STATS[\"betweenness_centrality\"] = nx.betweenness_centrality(G)\n",
    "    save_stats(STATS)"
   ]
  },
  {
   "cell_type": "code",
   "execution_count": null,
   "metadata": {},
   "outputs": [],
   "source": [
    "highlight_nodes_importance(G, STATS[\"betweenness_centrality\"])\n",
    "nx.write_gexf(G, \"graphs/betweenness_centrality.gexf\")"
   ]
  },
  {
   "cell_type": "code",
   "execution_count": null,
   "metadata": {},
   "outputs": [],
   "source": [
    "if(not \"k_clique_communities\" in STATS):\n",
    "    STATS[\"k_clique_communities\"] = [list(x) for x in nx.community.k_clique_communities(G, 4)]\n",
    "    save_stats(STATS)"
   ]
  },
  {
   "cell_type": "code",
   "execution_count": null,
   "metadata": {},
   "outputs": [],
   "source": [
    "highlight_nodes_communities(G, STATS[\"k_clique_communities\"])\n",
    "nx.write_gexf(G, \"graphs/k_clique_communities.gexf\")"
   ]
  },
  {
   "cell_type": "code",
   "execution_count": null,
   "metadata": {},
   "outputs": [],
   "source": [
    "if(not \"louvain_communities\" in STATS):\n",
    "    STATS[\"louvain_communities\"] = [list(x) for x in nx.community.louvain_communities(G)]\n",
    "    save_stats(STATS)"
   ]
  },
  {
   "cell_type": "code",
   "execution_count": null,
   "metadata": {},
   "outputs": [],
   "source": [
    "highlight_nodes_communities(G, STATS[\"louvain_communities\"])\n",
    "nx.write_gexf(G, \"graphs/louvain_communities.gexf\")"
   ]
  },
  {
   "cell_type": "code",
   "execution_count": null,
   "metadata": {},
   "outputs": [],
   "source": [
    "if(not \"girvan_newman\" in STATS):\n",
    "    communities = list(nx.community.girvan_newman(G))\n",
    "    for index, tup in enumerate(communities):\n",
    "        communities[index] = list(tup)\n",
    "    for tup in communities:\n",
    "        for index, sett in enumerate(tup):\n",
    "            tup[index] = list(sett)\n",
    "    STATS[\"girvan_newman\"] = communities\n",
    "    save_stats(STATS)"
   ]
  },
  {
   "cell_type": "code",
   "execution_count": null,
   "metadata": {},
   "outputs": [],
   "source": [
    "for index, community in enumerate(communities, 1):\n",
    "    highlight_nodes_communities(G, community)\n",
    "    nx.write_gexf(G, f\"graphs/girvan_newman/girvan_newman_{index}.gexf\")"
   ]
  }
 ],
 "metadata": {
  "kernelspec": {
   "display_name": "graph",
   "language": "python",
   "name": "python3"
  },
  "language_info": {
   "codemirror_mode": {
    "name": "ipython",
    "version": 3
   },
   "file_extension": ".py",
   "mimetype": "text/x-python",
   "name": "python",
   "nbconvert_exporter": "python",
   "pygments_lexer": "ipython3",
   "version": "3.11.0"
  },
  "orig_nbformat": 4
 },
 "nbformat": 4,
 "nbformat_minor": 2
}
