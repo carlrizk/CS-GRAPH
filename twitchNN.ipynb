{
 "cells": [
  {
   "cell_type": "code",
   "execution_count": 2,
   "metadata": {},
   "outputs": [],
   "source": [
    "%load_ext autoreload"
   ]
  },
  {
   "cell_type": "code",
   "execution_count": 3,
   "metadata": {},
   "outputs": [],
   "source": [
    "import networkx as nx\n",
    "import pandas as pd\n",
    "import json\n",
    "\n",
    "from collections import defaultdict\n",
    "from typing import Dict, Set, List\n"
   ]
  },
  {
   "cell_type": "code",
   "execution_count": 46,
   "metadata": {},
   "outputs": [],
   "source": [
    "def load_graph(src: str) -> nx.Graph:\n",
    "    G = nx.read_gexf(src)\n",
    "    mapping = {node: int(node) for node in G.nodes()}\n",
    "    return nx.relabel_nodes(G, mapping)\n",
    "\n",
    "def load_features(src: str) -> pd.DataFrame:\n",
    "    features_to_remove = [\"EN\", \"OTHER\"]\n",
    "    features = pd.read_csv(src)\n",
    "    features = features[~features[\"language\"].isin(features_to_remove)]\n",
    "    features = features[[\"language\", \"numeric_id\"]]\n",
    "    features.reset_index(inplace=True, drop=True)\n",
    "    return features\n",
    "\n",
    "def load_real_features(src: str, graph: nx.Graph) -> tuple[pd.DataFrame, Dict[str, Set[int]]]:\n",
    "    features = load_features(src)\n",
    "    real_communities: Dict[str, Set[int]] = defaultdict(set)\n",
    "    for node in graph.nodes:\n",
    "        language = features[features[\"numeric_id\"] == node].iloc[0][\"language\"]\n",
    "        real_communities[language].add(node)\n",
    "    return (features, real_communities)\n",
    "\n",
    "def unitary_degree(graph: nx.Graph, edge):\n",
    "    return 1\n",
    "\n",
    "def max_degree(graph: nx.Graph, edge):\n",
    "    n1, n2 = edge\n",
    "    d1, d2 = graph.degree(n1), graph.degree(n2)\n",
    "    return max(d1, d2)\n",
    "\n",
    "def max_pow_degree(graph: nx.Graph, edge):\n",
    "    n1, n2 = edge\n",
    "    d1, d2 = graph.degree(n1), graph.degree(n2)\n",
    "    return max(d1, d2)**2\n",
    "\n",
    "def sum_of_degree(graph: nx.Graph, edge):\n",
    "    n1, n2 = edge\n",
    "    d1, d2 = graph.degree(n1), graph.degree(n2)\n",
    "    return d1 + d2\n",
    "\n",
    "def sum_pow_of_degree(graph: nx.Graph, edge):\n",
    "    n1, n2 = edge\n",
    "    d1, d2 = graph.degree(n1), graph.degree(n2)\n",
    "    return (d1 + d2)**2\n",
    "\n",
    "def define_weights(graph: nx.Graph, func):\n",
    "    weights = {}\n",
    "    for edge in graph.edges():\n",
    "        weights[edge] = func(graph, edge)\n",
    "    return weights\n",
    "\n",
    "def get_communities(graph: nx.Graph) -> List[Set[int]]:\n",
    "    calculated_communities: List[Set[int]] = list(\n",
    "    nx.algorithms.community.asyn_lpa_communities(graph, weight=\"weights\")\n",
    "        )\n",
    "    return calculated_communities\n",
    "\n",
    "def calculate_score(real_communities: Dict[str, Set[int]], calculated_communities: Dict[str, Set[int]]):\n",
    "    total_score = 0\n",
    "    for language, nodes in real_communities.items():\n",
    "        best = (0, -1)\n",
    "        for i, community in enumerate(calculated_communities):\n",
    "            intersection_len = len(community.intersection(nodes))\n",
    "            if intersection_len > best[0]:\n",
    "                best = (intersection_len, i)\n",
    "        total_score += best[0]\n",
    "    return total_score\n"
   ]
  },
  {
   "cell_type": "code",
   "execution_count": 39,
   "metadata": {},
   "outputs": [],
   "source": [
    "src_graph = \"./graphs/twitch/graph.gexf\"\n",
    "src_features = \"./datasets/twitch/large_twitch_features.csv\"\n",
    "G = load_graph(src_graph)\n",
    "real_features, real_communities = load_real_features(src_features, G)"
   ]
  },
  {
   "cell_type": "code",
   "execution_count": 50,
   "metadata": {},
   "outputs": [
    {
     "name": "stdout",
     "output_type": "stream",
     "text": [
      "unit function\n",
      "Out of 41265 nodes, 37271 nodes matched correctly\n",
      "Accuracy 0.903210953592633\n",
      "max function\n",
      "Out of 41265 nodes, 37402 nodes matched correctly\n",
      "Accuracy 0.9063855567672362\n",
      "max_pow function\n",
      "Out of 41265 nodes, 36113 nodes matched correctly\n",
      "Accuracy 0.8751484308736217\n",
      "sum function\n",
      "Out of 41265 nodes, 37354 nodes matched correctly\n",
      "Accuracy 0.9052223433902823\n",
      "sum_pow function\n",
      "Out of 41265 nodes, 35918 nodes matched correctly\n",
      "Accuracy 0.8704228765297468\n"
     ]
    }
   ],
   "source": [
    "essais = {\n",
    "    \"unit\": unitary_degree,\n",
    "    \"max\": max_degree, \n",
    "    \"max_pow\": max_pow_degree,\n",
    "    \"sum\": sum_of_degree,\n",
    "    \"sum_pow\": sum_pow_of_degree,\n",
    "    }\n",
    "\n",
    "results = {}\n",
    "\n",
    "for name, func_to_use in essais.items():\n",
    "\n",
    "    weights = define_weights(G, func_to_use)\n",
    "    nx.set_edge_attributes(G, weights, \"weights\" + name)\n",
    "\n",
    "    calculated_communities: List[Set[int]] = list(\n",
    "        nx.algorithms.community.asyn_lpa_communities(G, weight=\"weights\" + name)\n",
    "    )\n",
    "\n",
    "    total_score = calculate_score(real_communities, calculated_communities)\n",
    "\n",
    "    print(f'{name} function')\n",
    "    print(\"Out of\", G.number_of_nodes(), \"nodes,\", total_score, \"nodes matched correctly\")\n",
    "    accuracy = total_score / G.number_of_nodes()\n",
    "    print(\"Accuracy\", accuracy)\n",
    "    results[name] = (total_score, accuracy)\n"
   ]
  },
  {
   "cell_type": "code",
   "execution_count": 51,
   "metadata": {},
   "outputs": [],
   "source": [
    "with open('./graphs/twitch/scores.json', 'w') as f:\n",
    "    # Convert the dictionary to JSON and write it to the file\n",
    "    json.dump(results, f)"
   ]
  }
 ],
 "metadata": {
  "kernelspec": {
   "display_name": "graph",
   "language": "python",
   "name": "python3"
  },
  "language_info": {
   "codemirror_mode": {
    "name": "ipython",
    "version": 3
   },
   "file_extension": ".py",
   "mimetype": "text/x-python",
   "name": "python",
   "nbconvert_exporter": "python",
   "pygments_lexer": "ipython3",
   "version": "3.11.0"
  },
  "orig_nbformat": 4
 },
 "nbformat": 4,
 "nbformat_minor": 2
}
