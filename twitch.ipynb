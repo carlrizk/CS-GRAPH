{
 "cells": [
  {
   "cell_type": "code",
   "execution_count": 97,
   "metadata": {},
   "outputs": [
    {
     "name": "stdout",
     "output_type": "stream",
     "text": [
      "The autoreload extension is already loaded. To reload it, use:\n",
      "  %reload_ext autoreload\n"
     ]
    }
   ],
   "source": [
    "%load_ext autoreload"
   ]
  },
  {
   "cell_type": "code",
   "execution_count": 98,
   "metadata": {},
   "outputs": [],
   "source": [
    "from utils import reset_colors\n",
    "\n",
    "import networkx as nx\n",
    "import pandas as pd\n",
    "import numpy as np\n",
    "\n",
    "from collections import defaultdict\n",
    "from typing import Dict, Set, List"
   ]
  },
  {
   "cell_type": "code",
   "execution_count": 104,
   "metadata": {},
   "outputs": [
    {
     "name": "stdout",
     "output_type": "stream",
     "text": [
      "Loaded 168114 nodes\n",
      "Kept 42274 nodes\n",
      "languages ['FR' 'KO' 'JA' 'RU' 'PL' 'DE' 'ES' 'IT' 'PT' 'TR' 'ZH' 'SV' 'NL' 'TH'\n",
      " 'CS' 'DA' 'HU' 'FI' 'NO']\n"
     ]
    }
   ],
   "source": [
    "features_to_remove = [\"EN\", \"OTHER\"]\n",
    "\n",
    "features = pd.read_csv(\"./datasets/twitch/large_twitch_features.csv\")\n",
    "print(\"Loaded\", len(features.index), \"nodes\")\n",
    "features = features[~features[\"language\"].isin(features_to_remove)]\n",
    "features = features[[\"language\", \"numeric_id\"]]\n",
    "print(\"Kept\", len(features.index), \"nodes\")\n",
    "features.reset_index(inplace=True, drop=True)\n",
    "\n",
    "print(\"languages \", features[\"language\"].unique())"
   ]
  },
  {
   "cell_type": "code",
   "execution_count": 105,
   "metadata": {},
   "outputs": [],
   "source": [
    "ids = features[\"numeric_id\"]"
   ]
  },
  {
   "cell_type": "code",
   "execution_count": 106,
   "metadata": {},
   "outputs": [
    {
     "name": "stdout",
     "output_type": "stream",
     "text": [
      "Loaded 6797557 edges\n",
      "Kept 657915 edges\n"
     ]
    }
   ],
   "source": [
    "edges = pd.read_csv(\"./datasets/twitch/large_twitch_edges.csv\")\n",
    "print(\"Loaded\", len(edges.index), \"edges\")\n",
    "edges_1 = edges[edges[\"id_1\"].isin(ids)]\n",
    "edges_2 = edges[edges[\"id_2\"].isin(ids)]\n",
    "index = pd.Index.intersection(edges_1.index, edges_2.index)\n",
    "edges = edges.iloc[index]\n",
    "print(\"Kept\", len(edges.index), \"edges\")\n",
    "edges.reset_index(inplace=True, drop=True)"
   ]
  },
  {
   "cell_type": "code",
   "execution_count": 107,
   "metadata": {},
   "outputs": [
    {
     "name": "stdout",
     "output_type": "stream",
     "text": [
      "Created graph with 41309 nodes and 657915 edges\n",
      "Chose largest connected component with 41265 nodes and 657892 edges\n"
     ]
    }
   ],
   "source": [
    "G = nx.Graph()\n",
    "\n",
    "for row in edges.iterrows():\n",
    "    G.add_edge(row[1][\"id_1\"], row[1][\"id_2\"])\n",
    "\n",
    "print(\n",
    "    \"Created graph with\", G.number_of_nodes(), \"nodes and\", G.number_of_edges(), \"edges\"\n",
    ")\n",
    "\n",
    "largest_cc = max(nx.connected_components(G), key=len)\n",
    "G = G.subgraph(largest_cc)\n",
    "print(\n",
    "    \"Chose largest connected component with\",\n",
    "    G.number_of_nodes(),\n",
    "    \"nodes and\",\n",
    "    G.number_of_edges(),\n",
    "    \"edges\",\n",
    ")"
   ]
  },
  {
   "cell_type": "code",
   "execution_count": 108,
   "metadata": {},
   "outputs": [],
   "source": [
    "reset_colors(G)"
   ]
  },
  {
   "cell_type": "code",
   "execution_count": 109,
   "metadata": {},
   "outputs": [],
   "source": [
    "nx.write_gexf(G, \"graphs/twitch/graph.gexf\")"
   ]
  },
  {
   "cell_type": "code",
   "execution_count": null,
   "metadata": {},
   "outputs": [],
   "source": [
    "real_communities: Dict[str, Set[int]] = defaultdict(set)\n",
    "for node in G.nodes:\n",
    "    language = features[features[\"numeric_id\"] == node].iloc[0][\"language\"]\n",
    "    real_communities[language].add(node)\n",
    "real_communities_counts = [\n",
    "    (language, len(nodes)) for language, nodes in real_communities.items()\n",
    "]"
   ]
  },
  {
   "cell_type": "code",
   "execution_count": 131,
   "metadata": {},
   "outputs": [
    {
     "name": "stdout",
     "output_type": "stream",
     "text": [
      "There are  19 communites with the folowing counts:\n",
      "- DE 9270\n",
      "- FR 6734\n",
      "- ES 5562\n",
      "- RU 4694\n",
      "- ZH 2794\n",
      "- PT 2460\n",
      "- JA 1262\n",
      "- IT 1210\n",
      "- KO 1186\n",
      "- PL 906\n",
      "- SV 781\n",
      "- TR 761\n",
      "- NL 647\n",
      "- TH 631\n",
      "- FI 623\n",
      "- CS 569\n",
      "- DA 472\n",
      "- HU 414\n",
      "- NO 289\n"
     ]
    }
   ],
   "source": [
    "print(\n",
    "    \"There are \", len(real_communities.keys()), \"communites with the folowing counts:\"\n",
    ")\n",
    "for x in sorted(real_communities_counts, key=lambda x: x[1], reverse=True):\n",
    "    print(\"-\", x[0], x[1])"
   ]
  },
  {
   "cell_type": "code",
   "execution_count": 125,
   "metadata": {},
   "outputs": [],
   "source": [
    "# highlight_nodes_communities(G, [nodes for _, nodes in real_communities.items()])\n",
    "# nx.write_gexf(G, \"graphs/twitch/languages.gexf\")"
   ]
  },
  {
   "cell_type": "code",
   "execution_count": 181,
   "metadata": {},
   "outputs": [],
   "source": [
    "weights = {}\n",
    "for edge in G.edges():\n",
    "    n1, n2 = edge\n",
    "    d1, d2 = G.degree(n1), G.degree(n2)\n",
    "    # weights[edge] = 1\n",
    "    weights[edge] = max(d1, d2)\n",
    "    # weights[edge] = max(d1, d2) ** 2\n",
    "    # weights[edge] = (d1 + d2)\n",
    "    # weights[edge] = (d1 + d2) ** 2\n",
    "\n",
    "nx.set_edge_attributes(G, weights, \"weights\")\n",
    "\n",
    "calculated_communities: List[Set[int]] = list(\n",
    "    nx.algorithms.community.asyn_lpa_communities(G, weight=\"weights\")\n",
    ")\n",
    "calculated_communities_counts = [len(com) for com in calculated_communities]"
   ]
  },
  {
   "cell_type": "code",
   "execution_count": 182,
   "metadata": {},
   "outputs": [
    {
     "name": "stdout",
     "output_type": "stream",
     "text": [
      "Found 21 communities with the folowing counts\n",
      "- 9496\n",
      "- 6907\n",
      "- 4706\n",
      "- 3194\n",
      "- 2817\n",
      "- 2640\n",
      "- 2551\n",
      "- 1196\n",
      "- 1189\n",
      "- 925\n",
      "- 867\n",
      "- 746\n",
      "- 700\n",
      "- 633\n",
      "- 566\n",
      "- 561\n",
      "- 544\n",
      "- 425\n",
      "- 382\n",
      "- 216\n",
      "- 4\n"
     ]
    }
   ],
   "source": [
    "print(\"Found\", len(calculated_communities), \"communities with the folowing counts\")\n",
    "for count in sorted(calculated_communities_counts, reverse=True):\n",
    "    print(\"-\", count)"
   ]
  },
  {
   "cell_type": "code",
   "execution_count": 117,
   "metadata": {},
   "outputs": [],
   "source": [
    "# highlight_nodes_communities(G, calculated_communities)\n",
    "# nx.write_gexf(G, \"graphs/twitch/calculated_communities.gexf\")"
   ]
  },
  {
   "cell_type": "code",
   "execution_count": 183,
   "metadata": {},
   "outputs": [
    {
     "name": "stdout",
     "output_type": "stream",
     "text": [
      "Matched NL (647) with 0 (529 in common)\n",
      "Matched NO (289) with 1 (199 in common)\n",
      "Matched DE (9270) with 2 (9175 in common)\n",
      "Matched HU (414) with 3 (376 in common)\n",
      "Matched JA (1262) with 4 (863 in common)\n",
      "Matched DA (472) with 8 (413 in common)\n",
      "Matched FR (6734) with 6 (6701 in common)\n",
      "Matched FI (623) with 9 (551 in common)\n",
      "Matched ES (5562) with 10 (2790 in common)\n",
      "Matched SV (781) with 5 (638 in common)\n",
      "Matched ZH (2794) with 16 (2773 in common)\n",
      "Matched IT (1210) with 11 (1163 in common)\n",
      "Matched PT (2460) with 12 (2394 in common)\n",
      "Matched PL (906) with 14 (852 in common)\n",
      "Matched TH (631) with 15 (624 in common)\n",
      "Matched TR (761) with 17 (735 in common)\n",
      "Matched RU (4694) with 7 (4598 in common)\n",
      "Matched CS (569) with 18 (555 in common)\n",
      "Matched KO (1186) with 19 (1143 in common)\n"
     ]
    }
   ],
   "source": [
    "total_score = 0\n",
    "for language, nodes in real_communities.items():\n",
    "    best = (0, -1)\n",
    "    for i, community in enumerate(calculated_communities):\n",
    "        intersection_len = len(community.intersection(nodes))\n",
    "        if intersection_len > best[0]:\n",
    "            best = (intersection_len, i)\n",
    "    total_score += best[0]\n",
    "    print(f\"Matched {language} ({len(nodes)}) with {best[1]} ({best[0]} in common)\")"
   ]
  },
  {
   "cell_type": "code",
   "execution_count": 184,
   "metadata": {},
   "outputs": [
    {
     "name": "stdout",
     "output_type": "stream",
     "text": [
      "Out of 41265 nodes, 37072 nodes matched correctly\n",
      "Accuracy 0.8983884648006786\n"
     ]
    }
   ],
   "source": [
    "print(\"Out of\", G.number_of_nodes(), \"nodes,\", total_score, \"nodes matched correctly\")\n",
    "print(\"Accuracy\", total_score / G.number_of_nodes())"
   ]
  }
 ],
 "metadata": {
  "kernelspec": {
   "display_name": "RL",
   "language": "python",
   "name": "rl"
  },
  "language_info": {
   "codemirror_mode": {
    "name": "ipython",
    "version": 3
   },
   "file_extension": ".py",
   "mimetype": "text/x-python",
   "name": "python",
   "nbconvert_exporter": "python",
   "pygments_lexer": "ipython3",
   "version": "3.11.2"
  },
  "orig_nbformat": 4
 },
 "nbformat": 4,
 "nbformat_minor": 2
}
