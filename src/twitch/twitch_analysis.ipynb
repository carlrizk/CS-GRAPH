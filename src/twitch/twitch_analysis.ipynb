{
 "cells": [
  {
   "attachments": {},
   "cell_type": "markdown",
   "metadata": {},
   "source": [
    "# Twitch Analysis"
   ]
  },
  {
   "cell_type": "code",
   "execution_count": null,
   "metadata": {},
   "outputs": [],
   "source": [
    "%load_ext autoreload\n",
    "\n",
    "import sys\n",
    "\n",
    "sys.path.append(\"../\")\n",
    "\n",
    "import json\n",
    "import numpy as np\n",
    "from twitch_utils import (\n",
    "    load_features,\n",
    "    remove_features,\n",
    "    load_edges,\n",
    "    create_graph,\n",
    "    choose_largest_cc,\n",
    "    get_real_communities,\n",
    "    set_weights,\n",
    "    evaluate_metric,\n",
    "    calculate_communities,\n",
    "    calculate_mapping_stats,\n",
    "    calculate_score,\n",
    ")\n",
    "from utils import highlight_nodes_communities, reset_colors, circular_layout"
   ]
  },
  {
   "attachments": {},
   "cell_type": "markdown",
   "metadata": {},
   "source": [
    "## Load Graph"
   ]
  },
  {
   "cell_type": "code",
   "execution_count": null,
   "metadata": {},
   "outputs": [],
   "source": [
    "features = load_features(\"./dataset/large_twitch_features.csv\")\n",
    "print(\"Loaded\", len(features.index), \"nodes\")"
   ]
  },
  {
   "attachments": {},
   "cell_type": "markdown",
   "metadata": {},
   "source": [
    "## Remove unused features and clean"
   ]
  },
  {
   "cell_type": "code",
   "execution_count": null,
   "metadata": {},
   "outputs": [],
   "source": [
    "features_to_remove = [\"OTHER\"]\n",
    "features = remove_features(features, features_to_remove)\n",
    "print(\"Kept\", len(features.index), \"nodes after removing\", features_to_remove)"
   ]
  },
  {
   "cell_type": "code",
   "execution_count": null,
   "metadata": {},
   "outputs": [],
   "source": [
    "all_features = {\n",
    "    \"EN\",\n",
    "    \"DE\",\n",
    "    \"FR\",\n",
    "    \"ES\",\n",
    "    \"RU\",\n",
    "    \"ZH\",\n",
    "    \"PT\",\n",
    "    \"JA\",\n",
    "    \"IT\",\n",
    "    \"KO\",\n",
    "    \"PL\",\n",
    "    \"SV\",\n",
    "    \"TR\",\n",
    "    \"NL\",\n",
    "    \"FI\",\n",
    "    \"TH\",\n",
    "    \"CS\",\n",
    "    \"DA\",\n",
    "    \"HU\",\n",
    "    \"NO\",\n",
    "}\n",
    "features_to_keep = {\"NO\", \"HU\"}\n",
    "features_to_remove = all_features.difference(features_to_keep)\n",
    "features = remove_features(features, features_to_remove)\n",
    "print(\"Kept\", len(features.index), \"nodes after removing\", features_to_remove)"
   ]
  },
  {
   "cell_type": "code",
   "execution_count": null,
   "metadata": {},
   "outputs": [],
   "source": [
    "edges = load_edges(\"./dataset/large_twitch_edges.csv\", features)\n",
    "print(\"Loaded\", len(edges.index), \"edges\")"
   ]
  },
  {
   "attachments": {},
   "cell_type": "markdown",
   "metadata": {},
   "source": [
    "## Create the Graph object"
   ]
  },
  {
   "cell_type": "code",
   "execution_count": null,
   "metadata": {},
   "outputs": [],
   "source": [
    "G = create_graph(edges)\n",
    "\n",
    "print(\n",
    "    \"Created graph with\", G.number_of_nodes(), \"nodes and\", G.number_of_edges(), \"edges\"\n",
    ")"
   ]
  },
  {
   "cell_type": "code",
   "execution_count": null,
   "metadata": {},
   "outputs": [],
   "source": [
    "G = choose_largest_cc(G)\n",
    "print(\n",
    "    \"Chose largest connected component with\",\n",
    "    G.number_of_nodes(),\n",
    "    \"nodes and\",\n",
    "    G.number_of_edges(),\n",
    "    \"edges\",\n",
    ")"
   ]
  },
  {
   "attachments": {},
   "cell_type": "markdown",
   "metadata": {},
   "source": [
    "## Get the real communities"
   ]
  },
  {
   "cell_type": "code",
   "execution_count": null,
   "metadata": {},
   "outputs": [],
   "source": [
    "real_communities = get_real_communities(G, features)\n",
    "\n",
    "print(\"There are \", len(real_communities), \"communites with the folowing counts:\")\n",
    "for language, community in real_communities:\n",
    "    print(\"-\", language, len(community))"
   ]
  },
  {
   "attachments": {},
   "cell_type": "markdown",
   "metadata": {},
   "source": [
    "## Define the different metrics used"
   ]
  },
  {
   "cell_type": "code",
   "execution_count": null,
   "metadata": {},
   "outputs": [],
   "source": [
    "from metrics import *"
   ]
  },
  {
   "attachments": {},
   "cell_type": "markdown",
   "metadata": {},
   "source": [
    "## Analyze"
   ]
  },
  {
   "cell_type": "code",
   "execution_count": null,
   "metadata": {},
   "outputs": [],
   "source": [
    "set_weights(G, metric_unitary(G), np.min)\n",
    "calculated_communities = calculate_communities(G)\n",
    "print(\"Calculated\", len(calculated_communities), \"communities with counts:\")\n",
    "for com in calculated_communities:\n",
    "    print(\"-\", len(com))"
   ]
  },
  {
   "cell_type": "code",
   "execution_count": null,
   "metadata": {},
   "outputs": [],
   "source": [
    "stats = calculate_mapping_stats(real_communities, calculated_communities)\n",
    "print(json.dumps(stats, indent=2))"
   ]
  },
  {
   "cell_type": "code",
   "execution_count": null,
   "metadata": {},
   "outputs": [],
   "source": [
    "score = calculate_score(stats)\n",
    "print(json.dumps(score, indent=2))"
   ]
  },
  {
   "cell_type": "code",
   "execution_count": null,
   "metadata": {},
   "outputs": [],
   "source": [
    "scores = evaluate_metric(G, real_communities, 500)\n",
    "print(\"mean\", np.mean(scores) * 100)\n",
    "print(\"std\", np.std(scores) * 100)\n",
    "print(\"min\", np.min(scores) * 100)\n",
    "print(\"max\", np.max(scores) * 100)\n",
    "print()\n",
    "print(scores)"
   ]
  },
  {
   "cell_type": "code",
   "execution_count": null,
   "metadata": {},
   "outputs": [],
   "source": [
    "circular_layout(G)"
   ]
  },
  {
   "cell_type": "code",
   "execution_count": null,
   "metadata": {},
   "outputs": [],
   "source": [
    "reset_colors(G)\n",
    "highlight_nodes_communities(G, calculated_communities)\n",
    "nx.write_gexf(G, f\"graphs/calc_communities_unitary.gexf\")"
   ]
  }
 ],
 "metadata": {
  "kernelspec": {
   "display_name": "RL",
   "language": "python",
   "name": "rl"
  },
  "language_info": {
   "codemirror_mode": {
    "name": "ipython",
    "version": 3
   },
   "file_extension": ".py",
   "mimetype": "text/x-python",
   "name": "python",
   "nbconvert_exporter": "python",
   "pygments_lexer": "ipython3",
   "version": "3.11.2"
  },
  "orig_nbformat": 4
 },
 "nbformat": 4,
 "nbformat_minor": 2
}
