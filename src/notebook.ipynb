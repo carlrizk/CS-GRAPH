{
 "cells": [
  {
   "cell_type": "code",
   "execution_count": 1,
   "metadata": {},
   "outputs": [],
   "source": [
    "%load_ext autoreload"
   ]
  },
  {
   "cell_type": "code",
   "execution_count": 2,
   "metadata": {},
   "outputs": [],
   "source": [
    "from utils import *\n",
    "import networkx as nx"
   ]
  },
  {
   "cell_type": "code",
   "execution_count": null,
   "metadata": {},
   "outputs": [],
   "source": [
    "G = ...  # The Graph to use\n",
    "IGNORE_PREVIOUS_STATS = ...  # True or False"
   ]
  },
  {
   "cell_type": "code",
   "execution_count": null,
   "metadata": {},
   "outputs": [],
   "source": [
    "if IGNORE_PREVIOUS_STATS:\n",
    "    STATS = {}\n",
    "else:\n",
    "    STATS = load_stats()"
   ]
  },
  {
   "cell_type": "code",
   "execution_count": 254,
   "metadata": {},
   "outputs": [],
   "source": [
    "circular_layout(G)\n",
    "reset_colors(G)"
   ]
  },
  {
   "cell_type": "code",
   "execution_count": 5,
   "metadata": {},
   "outputs": [],
   "source": [
    "nx.write_gexf(G, \"graphs/graph.gexf\")"
   ]
  },
  {
   "cell_type": "code",
   "execution_count": 6,
   "metadata": {},
   "outputs": [],
   "source": [
    "if not \"number_of_nodes\" in STATS:\n",
    "    STATS[\"number_of_nodes\"] = G.number_of_nodes()\n",
    "    save_stats(STATS)\n",
    "\n",
    "if not \"number_of_edges\" in STATS:\n",
    "    STATS[\"number_of_edges\"] = G.number_of_edges()\n",
    "    save_stats(STATS)\n",
    "\n",
    "if not \"diameter\" in STATS:\n",
    "    STATS[\"diameter\"] = nx.diameter(G)\n",
    "    save_stats(STATS)\n",
    "\n",
    "if not \"radius\" in STATS:\n",
    "    STATS[\"radius\"] = nx.radius(G)\n",
    "    save_stats(STATS)"
   ]
  },
  {
   "cell_type": "code",
   "execution_count": 7,
   "metadata": {},
   "outputs": [],
   "source": [
    "if not \"centers\" in STATS:\n",
    "    STATS[\"centers\"] = nx.center(G)\n",
    "    save_stats(STATS)"
   ]
  },
  {
   "cell_type": "code",
   "execution_count": 8,
   "metadata": {},
   "outputs": [],
   "source": [
    "highlight_nodes(G, STATS[\"centers\"])\n",
    "nx.write_gexf(G, \"graphs/centers.gexf\")"
   ]
  },
  {
   "cell_type": "code",
   "execution_count": 9,
   "metadata": {},
   "outputs": [],
   "source": [
    "if not \"degree_centrality\" in STATS:\n",
    "    STATS[\"degree_centrality\"] = nx.degree_centrality(G)\n",
    "    save_stats(STATS)"
   ]
  },
  {
   "cell_type": "code",
   "execution_count": 10,
   "metadata": {},
   "outputs": [],
   "source": [
    "highlight_nodes_importance(G, STATS[\"degree_centrality\"])\n",
    "nx.write_gexf(G, \"graphs/degree_centrality.gexf\")"
   ]
  },
  {
   "cell_type": "code",
   "execution_count": 11,
   "metadata": {},
   "outputs": [],
   "source": [
    "if not \"eigenvector_centrality\" in STATS:\n",
    "    STATS[\"eigenvector_centrality\"] = nx.eigenvector_centrality(G)\n",
    "    save_stats(STATS)"
   ]
  },
  {
   "cell_type": "code",
   "execution_count": 12,
   "metadata": {},
   "outputs": [],
   "source": [
    "highlight_nodes_importance(G, STATS[\"eigenvector_centrality\"])\n",
    "nx.write_gexf(G, \"graphs/eigenvector_centrality.gexf\")"
   ]
  },
  {
   "cell_type": "code",
   "execution_count": 263,
   "metadata": {},
   "outputs": [],
   "source": [
    "if not \"pagerank\" in STATS:\n",
    "    STATS[\"pagerank\"] = nx.pagerank(G)\n",
    "    save_stats(STATS)"
   ]
  },
  {
   "cell_type": "code",
   "execution_count": 264,
   "metadata": {},
   "outputs": [],
   "source": [
    "highlight_nodes_importance(G, STATS[\"pagerank\"])\n",
    "nx.write_gexf(G, \"graphs/pagerank.gexf\")"
   ]
  },
  {
   "cell_type": "code",
   "execution_count": 13,
   "metadata": {},
   "outputs": [],
   "source": [
    "if not \"clustering_coeff\" in STATS:\n",
    "    STATS[\"clustering_coeff\"] = nx.clustering(G)\n",
    "    save_stats(STATS)"
   ]
  },
  {
   "cell_type": "code",
   "execution_count": 14,
   "metadata": {},
   "outputs": [],
   "source": [
    "highlight_nodes_importance(G, STATS[\"clustering_coeff\"])\n",
    "nx.write_gexf(G, \"graphs/clustering_coeff.gexf\")"
   ]
  },
  {
   "cell_type": "code",
   "execution_count": 15,
   "metadata": {},
   "outputs": [],
   "source": [
    "if not \"closeness_centrality\" in STATS:\n",
    "    STATS[\"closeness_centrality\"] = nx.closeness_centrality(G)\n",
    "    save_stats(STATS)"
   ]
  },
  {
   "cell_type": "code",
   "execution_count": 16,
   "metadata": {},
   "outputs": [],
   "source": [
    "highlight_nodes_importance(G, STATS[\"closeness_centrality\"])\n",
    "nx.write_gexf(G, \"graphs/closeness_centrality.gexf\")"
   ]
  },
  {
   "cell_type": "code",
   "execution_count": 17,
   "metadata": {},
   "outputs": [],
   "source": [
    "if not \"betweenness_centrality\" in STATS:\n",
    "    STATS[\"betweenness_centrality\"] = nx.betweenness_centrality(G)\n",
    "    save_stats(STATS)"
   ]
  },
  {
   "cell_type": "code",
   "execution_count": 18,
   "metadata": {},
   "outputs": [],
   "source": [
    "highlight_nodes_importance(G, STATS[\"betweenness_centrality\"])\n",
    "nx.write_gexf(G, \"graphs/betweenness_centrality.gexf\")"
   ]
  },
  {
   "cell_type": "code",
   "execution_count": 19,
   "metadata": {},
   "outputs": [],
   "source": [
    "if not \"k_clique_communities\" in STATS:\n",
    "    STATS[\"k_clique_communities\"] = [\n",
    "        list(x) for x in nx.community.k_clique_communities(G, 4)\n",
    "    ]\n",
    "    save_stats(STATS)"
   ]
  },
  {
   "cell_type": "code",
   "execution_count": null,
   "metadata": {},
   "outputs": [],
   "source": [
    "highlight_nodes_communities(G, STATS[\"k_clique_communities\"])\n",
    "nx.write_gexf(G, \"graphs/k_clique_communities.gexf\")"
   ]
  },
  {
   "cell_type": "code",
   "execution_count": null,
   "metadata": {},
   "outputs": [],
   "source": [
    "if not \"louvain_communities\" in STATS:\n",
    "    STATS[\"louvain_communities\"] = [\n",
    "        list(x) for x in nx.community.louvain_communities(G)\n",
    "    ]\n",
    "    save_stats(STATS)"
   ]
  },
  {
   "cell_type": "code",
   "execution_count": null,
   "metadata": {},
   "outputs": [],
   "source": [
    "highlight_nodes_communities(G, STATS[\"louvain_communities\"])\n",
    "nx.write_gexf(G, \"graphs/louvain_communities.gexf\")"
   ]
  },
  {
   "cell_type": "code",
   "execution_count": null,
   "metadata": {},
   "outputs": [],
   "source": [
    "if not \"girvan_newman\" in STATS:\n",
    "    communities = list(nx.community.girvan_newman(G))\n",
    "    for index, tup in enumerate(communities):\n",
    "        communities[index] = list(tup)\n",
    "    for tup in communities:\n",
    "        for index, sett in enumerate(tup):\n",
    "            tup[index] = list(sett)\n",
    "    STATS[\"girvan_newman\"] = communities\n",
    "    save_stats(STATS)"
   ]
  },
  {
   "cell_type": "code",
   "execution_count": null,
   "metadata": {},
   "outputs": [],
   "source": [
    "for index, community in enumerate(communities, 1):\n",
    "    highlight_nodes_communities(G, community)\n",
    "    nx.write_gexf(G, f\"graphs/girvan_newman/girvan_newman_{index}.gexf\")"
   ]
  }
 ],
 "metadata": {
  "kernelspec": {
   "display_name": "RL",
   "language": "python",
   "name": "rl"
  },
  "language_info": {
   "codemirror_mode": {
    "name": "ipython",
    "version": 3
   },
   "file_extension": ".py",
   "mimetype": "text/x-python",
   "name": "python",
   "nbconvert_exporter": "python",
   "pygments_lexer": "ipython3",
   "version": "3.11.2"
  },
  "orig_nbformat": 4
 },
 "nbformat": 4,
 "nbformat_minor": 2
}
